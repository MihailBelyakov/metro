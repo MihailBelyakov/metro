{
 "cells": [
  {
   "cell_type": "code",
   "execution_count": 13,
   "id": "substantial-hurricane",
   "metadata": {},
   "outputs": [],
   "source": [
    "import pandas as pd\n",
    "import matplotlib.pyplot as plt\n",
    "data=pd.read_csv('data.csv')\n",
    "\n",
    "userlist=pd.read_csv('userlist.csv')\n",
    "#Соединяем 2 имеющиеся таблици\n",
    "df=data.merge(userlist, on = 'userID', how='left' )\n",
    "#Таблица с теми у кого функция включена\n",
    "df_y=df[df['group']=='Y']\n",
    "#Таблица с теми у кого функция включена\n",
    "df_n=df[df['group']=='N']\n"
   ]
  },
  {
   "cell_type": "code",
   "execution_count": 10,
   "id": "sunset-treat",
   "metadata": {},
   "outputs": [
    {
     "data": {
      "text/plain": [
       "Unnamed: 0_x    0\n",
       "userID          0\n",
       "exp0            0\n",
       "exp1            0\n",
       "delta           0\n",
       "Unnamed: 0_y    0\n",
       "group           0\n",
       "dtype: int64"
      ]
     },
     "execution_count": 10,
     "metadata": {},
     "output_type": "execute_result"
    }
   ],
   "source": [
    "#Проверим на пропущенные значения :\n",
    "df.isna().sum()"
   ]
  },
  {
   "cell_type": "code",
   "execution_count": 9,
   "id": "attractive-inside",
   "metadata": {},
   "outputs": [
    {
     "data": {
      "text/plain": [
       "count    2664.000000\n",
       "mean     -140.466592\n",
       "std        62.235495\n",
       "min      -361.000000\n",
       "25%      -181.000000\n",
       "50%      -141.000000\n",
       "75%       -98.000000\n",
       "max       100.000000\n",
       "Name: delta, dtype: float64"
      ]
     },
     "execution_count": 9,
     "metadata": {},
     "output_type": "execute_result"
    }
   ],
   "source": [
    "#Сделаем describe для таблицы N\n",
    "df_n['delta'].describe()"
   ]
  },
  {
   "cell_type": "code",
   "execution_count": 16,
   "id": "interesting-density",
   "metadata": {},
   "outputs": [
    {
     "data": {
      "text/plain": [
       "<AxesSubplot:>"
      ]
     },
     "execution_count": 16,
     "metadata": {},
     "output_type": "execute_result"
    },
    {
     "data": {
      "image/png": "[encoded data removed]",
      "text/plain": [
       "<Figure size 432x288 with 1 Axes>"
      ]
     },
     "metadata": {
      "needs_background": "light"
     },
     "output_type": "display_data"
    }
   ],
   "source": [
    "#Построим ящик с усами для таблицы N\n",
    "df_n.boxplot('delta')"
   ]
  },
  {
   "cell_type": "code",
   "execution_count": 7,
   "id": "particular-raleigh",
   "metadata": {},
   "outputs": [
    {
     "data": {
      "text/plain": [
       "count    2035.000000\n",
       "mean     -111.920393\n",
       "std        58.351127\n",
       "min      -333.000000\n",
       "25%      -149.000000\n",
       "50%      -113.000000\n",
       "75%       -74.000000\n",
       "max        97.000000\n",
       "Name: delta, dtype: float64"
      ]
     },
     "execution_count": 7,
     "metadata": {},
     "output_type": "execute_result"
    }
   ],
   "source": [
    "#Сделаем describe для таблицы Y\n",
    "df_y['delta'].describe()"
   ]
  },
  {
   "cell_type": "code",
   "execution_count": 18,
   "id": "virtual-helicopter",
   "metadata": {},
   "outputs": [
    {
     "data": {
      "text/plain": [
       "<AxesSubplot:>"
      ]
     },
     "execution_count": 18,
     "metadata": {},
     "output_type": "execute_result"
    },
    {
     "data": {
      "image/png": "[encoded data removed]",
      "text/plain": [
       "<Figure size 432x288 with 1 Axes>"
      ]
     },
     "metadata": {
      "needs_background": "light"
     },
     "output_type": "display_data"
    }
   ],
   "source": [
    "#Построим ящик с усами для таблицы Y\n",
    "df_y.boxplot('delta')"
   ]
  },
  {
   "cell_type": "code",
   "execution_count": null,
   "id": "thorough-airplane",
   "metadata": {},
   "outputs": [],
   "source": []
  }
 ],
 "metadata": {
  "kernelspec": {
   "display_name": "Python 3",
   "language": "python",
   "name": "python3"
  },
  "language_info": {
   "codemirror_mode": {
    "name": "ipython",
    "version": 3
   },
   "file_extension": ".py",
   "mimetype": "text/x-python",
   "name": "python",
   "nbconvert_exporter": "python",
   "pygments_lexer": "ipython3",
   "version": "3.8.2"
  }
 },
 "nbformat": 4,
 "nbformat_minor": 5
}
