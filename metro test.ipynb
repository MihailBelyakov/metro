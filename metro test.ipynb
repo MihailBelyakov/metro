{
 "cells": [
  {
   "cell_type": "code",
   "execution_count": 32,
   "id": "substantial-hurricane",
   "metadata": {},
   "outputs": [],
   "source": [
    "#Подготовим данные к анализу\n",
    "\n",
    "import pandas as pd\n",
    "import matplotlib.pyplot as plt\n",
    "import random\n",
    "import seaborn as sns\n",
    "data=pd.read_csv('data.csv')\n",
    "\n",
    "userlist=pd.read_csv('userlist.csv')\n",
    "#Соединяем 2 имеющиеся таблици\n",
    "df=data.merge(userlist, on = 'userID', how='left' )\n",
    "\n",
    "#Напишем функцию первичной проверки данных\n",
    "def df_info(df):\n",
    "    print('Общая информация:')\n",
    "    print(df.info())\n",
    "    print('Проврка на пропущенные значения:')\n",
    "    print(df.isna().sum())\n",
    "    print('Проврка на дубликаты:')\n",
    "    print('Дубликаты', df.duplicated().sum())\n",
    "    \n",
    "\n",
    "\n",
    "#Добавляем столбец с %-ой разницей, для понимания сколько\n",
    "# именно процентов от изначальной суммы сэкономил клиент   \n",
    "df['procent']=((df['exp0']-df['exp1'])/df['exp0'])*100\n",
    "\n",
    "#Таблица с теми у кого функция включена\n",
    "df_y=df[df['group']=='Y']\n",
    "#Таблица с теми у кого функция включена\n",
    "df_n=df[df['group']=='N']\n",
    "\n",
    "\n",
    "\n"
   ]
  },
  {
   "cell_type": "markdown",
   "id": "entertaining-height",
   "metadata": {},
   "source": [
    "# Разбор эксперимента.\n",
    "Аналитик из генеральной совокупности сформировал выборку из 5000 пользователей функцией random или sample или любым другим методом, сделал в получившейся выборке рассылку с уведомлением о подключении некоторой функции. Через некоторое время удалил из выборки неактивных пользователей. Далее аналитик решил протестировать гипотезу на двух группах о том, что при прочих равных, новая функция снижает средние издержки пользователей. По прошествию месяца добавил столбец delta – изменение месячных транспортных расходов(exp1 - exp0). После чего функцией groupby аналитик произвел анализ в разностях средних между тестовой и контрольной группами."
   ]
  },
  {
   "cell_type": "markdown",
   "id": "threaded-sunset",
   "metadata": {},
   "source": [
    "# Начнем наш анализ:"
   ]
  },
  {
   "cell_type": "code",
   "execution_count": 33,
   "id": "further-possible",
   "metadata": {},
   "outputs": [
    {
     "name": "stdout",
     "output_type": "stream",
     "text": [
      "Общая информация:\n",
      "<class 'pandas.core.frame.DataFrame'>\n",
      "Int64Index: 4699 entries, 0 to 4698\n",
      "Data columns (total 8 columns):\n",
      " #   Column        Non-Null Count  Dtype  \n",
      "---  ------        --------------  -----  \n",
      " 0   Unnamed: 0_x  4699 non-null   int64  \n",
      " 1   userID        4699 non-null   int64  \n",
      " 2   exp0          4699 non-null   int64  \n",
      " 3   exp1          4699 non-null   int64  \n",
      " 4   delta         4699 non-null   int64  \n",
      " 5   Unnamed: 0_y  4699 non-null   int64  \n",
      " 6   group         4699 non-null   object \n",
      " 7   procent       4699 non-null   float64\n",
      "dtypes: float64(1), int64(6), object(1)\n",
      "memory usage: 312.0+ KB\n",
      "None\n",
      "Проврка на пропущенные значения:\n",
      "Unnamed: 0_x    0\n",
      "userID          0\n",
      "exp0            0\n",
      "exp1            0\n",
      "delta           0\n",
      "Unnamed: 0_y    0\n",
      "group           0\n",
      "procent         0\n",
      "dtype: int64\n",
      "Проврка на дубликаты:\n",
      "Дубликаты 0\n"
     ]
    }
   ],
   "source": [
    "#Первичная проверка :\n",
    "df_info(df)"
   ]
  },
  {
   "cell_type": "markdown",
   "id": "generous-morocco",
   "metadata": {},
   "source": [
    "# Оценка результатов, полученных аналитиком."
   ]
  },
  {
   "cell_type": "code",
   "execution_count": 34,
   "id": "attractive-inside",
   "metadata": {},
   "outputs": [
    {
     "data": {
      "text/plain": [
       "count    2664.000000\n",
       "mean     -140.466592\n",
       "std        62.235495\n",
       "min      -361.000000\n",
       "25%      -181.000000\n",
       "50%      -141.000000\n",
       "75%       -98.000000\n",
       "max       100.000000\n",
       "Name: delta, dtype: float64"
      ]
     },
     "execution_count": 34,
     "metadata": {},
     "output_type": "execute_result"
    }
   ],
   "source": [
    "#Сделаем describe для столбца дельта  таблицы N\n",
    "df_n['delta'].describe()"
   ]
  },
  {
   "cell_type": "code",
   "execution_count": 35,
   "id": "listed-germany",
   "metadata": {},
   "outputs": [
    {
     "data": {
      "text/plain": [
       "count    2035.000000\n",
       "mean     -111.920393\n",
       "std        58.351127\n",
       "min      -333.000000\n",
       "25%      -149.000000\n",
       "50%      -113.000000\n",
       "75%       -74.000000\n",
       "max        97.000000\n",
       "Name: delta, dtype: float64"
      ]
     },
     "execution_count": 35,
     "metadata": {},
     "output_type": "execute_result"
    }
   ],
   "source": [
    "#Сделаем describe для таблицы Y\n",
    "df_y['delta'].describe()"
   ]
  },
  {
   "cell_type": "markdown",
   "id": "italic-mexican",
   "metadata": {},
   "source": [
    "#### Вывод: Данные не корректно отображают работы функции(по результатам получается,  что функция не работает или работает не корректно, буд-то бы пользователи не экономят деньги )"
   ]
  },
  {
   "cell_type": "markdown",
   "id": "absent-stationery",
   "metadata": {},
   "source": [
    "# Преобразуем полученные данные\n",
    "### В качестве основной метрики примим процент сэкономленных денег, а не дельту"
   ]
  },
  {
   "cell_type": "code",
   "execution_count": 36,
   "id": "worldwide-phoenix",
   "metadata": {},
   "outputs": [
    {
     "data": {
      "text/plain": [
       "count    2664.000000\n",
       "mean        2.785684\n",
       "std         1.756699\n",
       "min        -3.360717\n",
       "25%         1.588222\n",
       "50%         2.446007\n",
       "75%         3.659311\n",
       "max        13.693346\n",
       "Name: procent, dtype: float64"
      ]
     },
     "execution_count": 36,
     "metadata": {},
     "output_type": "execute_result"
    }
   ],
   "source": [
    "#Сделаем describe для таблицы столбца процент  таблицы N\n",
    "#это более наглядная метрика\n",
    "df_n['procent'].describe()"
   ]
  },
  {
   "cell_type": "code",
   "execution_count": 37,
   "id": "amazing-charm",
   "metadata": {
    "scrolled": true
   },
   "outputs": [
    {
     "data": {
      "text/plain": [
       "<AxesSubplot:>"
      ]
     },
     "execution_count": 37,
     "metadata": {},
     "output_type": "execute_result"
    },
    {
     "data": {
      "image/png": "[encoded data removed]",
      "text/plain": [
       "<Figure size 432x288 with 1 Axes>"
      ]
     },
     "metadata": {
      "needs_background": "light"
     },
     "output_type": "display_data"
    }
   ],
   "source": [
    "#Построим ящик с усами для таблицы N - распределение нормальное\n",
    "df_n.boxplot('procent')"
   ]
  },
  {
   "cell_type": "code",
   "execution_count": 38,
   "id": "heated-wayne",
   "metadata": {},
   "outputs": [
    {
     "data": {
      "text/plain": [
       "count    2035.000000\n",
       "mean        5.479252\n",
       "std         3.889150\n",
       "min        -3.835508\n",
       "25%         2.987279\n",
       "50%         4.841499\n",
       "75%         7.317396\n",
       "max        39.759036\n",
       "Name: procent, dtype: float64"
      ]
     },
     "execution_count": 38,
     "metadata": {},
     "output_type": "execute_result"
    }
   ],
   "source": [
    "#Сделаем describe для таблицы столбца процент  таблицы Y \n",
    "#это более наглядная метрика\n",
    "df_y['procent'].describe()"
   ]
  },
  {
   "cell_type": "code",
   "execution_count": 39,
   "id": "official-miracle",
   "metadata": {},
   "outputs": [
    {
     "data": {
      "text/plain": [
       "<AxesSubplot:>"
      ]
     },
     "execution_count": 39,
     "metadata": {},
     "output_type": "execute_result"
    },
    {
     "data": {
      "image/png": "[encoded data removed]",
      "text/plain": [
       "<Figure size 432x288 with 1 Axes>"
      ]
     },
     "metadata": {
      "needs_background": "light"
     },
     "output_type": "display_data"
    }
   ],
   "source": [
    "#Построим ящик с усами для таблицы Y - распределение нормальное\n",
    "df_y.boxplot('procent')"
   ]
  },
  {
   "cell_type": "markdown",
   "id": "timely-credits",
   "metadata": {},
   "source": [
    "# Вывод\n",
    "#### По полученным результатам видно, что среднее значение по столбцу процент  у группы Y(те кто пользовался функцией) 5.479%, а у группы  N 2.785%, эти данные более наглядны т.к. говорят об экономии средств но для более точных результатов я бы взял бОльшую выборку с одинаковым колличеством пользователей и бОльший временной интервал."
   ]
  },
  {
   "cell_type": "markdown",
   "id": "robust-substance",
   "metadata": {},
   "source": [
    "# Сделаем  выборку Y с таким же колличеством клиентов как в выборке N и найдем среднее"
   ]
  },
  {
   "cell_type": "code",
   "execution_count": 41,
   "id": "organizational-serum",
   "metadata": {},
   "outputs": [
    {
     "data": {
      "text/plain": [
       "count    2035.000000\n",
       "mean        2.799736\n",
       "std         1.783349\n",
       "min        -3.360717\n",
       "25%         1.586354\n",
       "50%         2.459016\n",
       "75%         3.663990\n",
       "max        13.693346\n",
       "Name: procent, dtype: float64"
      ]
     },
     "execution_count": 41,
     "metadata": {},
     "output_type": "execute_result"
    }
   ],
   "source": [
    "df_n=df_n.sample(n=2035)\n",
    "df_n['procent'].describe()\n"
   ]
  },
  {
   "cell_type": "markdown",
   "id": "loaded-geneva",
   "metadata": {},
   "source": [
    "### Иследование не дало каких-то неожиданных результатов, среднее значение практически такое же что и до этого. Предыдущие выводы сохраняются"
   ]
  },
  {
   "cell_type": "code",
   "execution_count": null,
   "id": "third-affairs",
   "metadata": {},
   "outputs": [],
   "source": []
  }
 ],
 "metadata": {
  "kernelspec": {
   "display_name": "Python 3",
   "language": "python",
   "name": "python3"
  },
  "language_info": {
   "codemirror_mode": {
    "name": "ipython",
    "version": 3
   },
   "file_extension": ".py",
   "mimetype": "text/x-python",
   "name": "python",
   "nbconvert_exporter": "python",
   "pygments_lexer": "ipython3",
   "version": "3.8.2"
  }
 },
 "nbformat": 4,
 "nbformat_minor": 5
}
