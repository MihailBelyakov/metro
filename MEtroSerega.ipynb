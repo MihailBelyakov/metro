{
  "nbformat": 4,
  "nbformat_minor": 0,
  "metadata": {
    "colab": {
      "name": "MEtro.ipynb",
      "provenance": []
    },
    "kernelspec": {
      "name": "python3",
      "display_name": "Python 3"
    },
    "language_info": {
      "name": "python"
    }
  },
  "cells": [
    {
      "cell_type": "code",
      "metadata": {
        "id": "jqKYv21HC-Ca"
      },
      "source": [
        "import pandas as pd\n",
        "import numpy as np\n",
        "from scipy import stats as st\n",
        "import seaborn as sns\n",
        "from IPython.display import display\n",
        "%matplotlib inline\n",
        "pd.set_option('display.max_columns', 500)\n",
        "import warnings\n",
        "warnings.filterwarnings(\"ignore\")"
      ],
      "execution_count": 107,
      "outputs": []
    },
    {
      "cell_type": "markdown",
      "metadata": {
        "id": "vWVjENPLOGVX"
      },
      "source": [
        "### Разбор эксперимента.\n",
        " Аналитик из *генеральной совокупности* сформировал выборку из 5000 пользователей функцией **random**, сделал в получившейся выборке рассылку с уведомлением о подключении некоторой функции. Через некоторое время удалил из выборки неактивных пользователей. Далее аналитик решил протестировать гипотезу на двух группах о том, что при прочих равных, новая функция снижает средние издержки пользователей. По прошествию месяца добавил столбец delta – изменение месячных транспортных расходов(exp1 - exp0). После чего функцией **groupby** аналитик произвел анализ в разностях средних между тестовой и контрольной группами."
      ]
    },
    {
      "cell_type": "code",
      "metadata": {
        "id": "Sw8ftDLrFRGu"
      },
      "source": [
        "userlist = pd.read_csv('userlist.csv', index_col=0)\n",
        "data = pd.read_csv('data.csv', index_col=0)"
      ],
      "execution_count": 108,
      "outputs": []
    },
    {
      "cell_type": "code",
      "metadata": {
        "colab": {
          "base_uri": "https://localhost:8080/",
          "height": 204
        },
        "id": "AbynpUUJJMyY",
        "outputId": "1a854783-8e79-491a-b24f-dfe3ca9ff4c5"
      },
      "source": [
        "userlist.head()"
      ],
      "execution_count": 109,
      "outputs": [
        {
          "output_type": "execute_result",
          "data": {
            "text/html": [
              "<div>\n",
              "<style scoped>\n",
              "    .dataframe tbody tr th:only-of-type {\n",
              "        vertical-align: middle;\n",
              "    }\n",
              "\n",
              "    .dataframe tbody tr th {\n",
              "        vertical-align: top;\n",
              "    }\n",
              "\n",
              "    .dataframe thead th {\n",
              "        text-align: right;\n",
              "    }\n",
              "</style>\n",
              "<table border=\"1\" class=\"dataframe\">\n",
              "  <thead>\n",
              "    <tr style=\"text-align: right;\">\n",
              "      <th></th>\n",
              "      <th>userID</th>\n",
              "      <th>group</th>\n",
              "    </tr>\n",
              "  </thead>\n",
              "  <tbody>\n",
              "    <tr>\n",
              "      <th>1</th>\n",
              "      <td>3331</td>\n",
              "      <td>Y</td>\n",
              "    </tr>\n",
              "    <tr>\n",
              "      <th>2</th>\n",
              "      <td>1912</td>\n",
              "      <td>Y</td>\n",
              "    </tr>\n",
              "    <tr>\n",
              "      <th>3</th>\n",
              "      <td>3035</td>\n",
              "      <td>Y</td>\n",
              "    </tr>\n",
              "    <tr>\n",
              "      <th>4</th>\n",
              "      <td>916</td>\n",
              "      <td>Y</td>\n",
              "    </tr>\n",
              "    <tr>\n",
              "      <th>5</th>\n",
              "      <td>1920</td>\n",
              "      <td>Y</td>\n",
              "    </tr>\n",
              "  </tbody>\n",
              "</table>\n",
              "</div>"
            ],
            "text/plain": [
              "   userID group\n",
              "1    3331     Y\n",
              "2    1912     Y\n",
              "3    3035     Y\n",
              "4     916     Y\n",
              "5    1920     Y"
            ]
          },
          "metadata": {
            "tags": []
          },
          "execution_count": 109
        }
      ]
    },
    {
      "cell_type": "markdown",
      "metadata": {
        "id": "JUa5LS_nYNJJ"
      },
      "source": [
        "**Проверим что имеем**"
      ]
    },
    {
      "cell_type": "code",
      "metadata": {
        "id": "v64ZQaUSFRDu"
      },
      "source": [
        "# Функция первичного анализа данных\n",
        "def df_info(df):\n",
        "  print(df.info())\n",
        "  display(df.head())\n",
        "  display(df.describe().T)\n",
        "  print('Пропущенные значения:')\n",
        "  print(df.isna().sum())\n",
        "  print('Дубликаты', df.duplicated().sum())"
      ],
      "execution_count": 110,
      "outputs": []
    },
    {
      "cell_type": "code",
      "metadata": {
        "colab": {
          "base_uri": "https://localhost:8080/",
          "height": 522
        },
        "id": "GwsBFaVQFRAz",
        "outputId": "6fc8b83d-196d-4cfa-b8db-fe325f71dabe"
      },
      "source": [
        "# Пользователи в эксперименте\n",
        "df_info(userlist)"
      ],
      "execution_count": 111,
      "outputs": [
        {
          "output_type": "stream",
          "text": [
            "<class 'pandas.core.frame.DataFrame'>\n",
            "Int64Index: 4699 entries, 1 to 4699\n",
            "Data columns (total 2 columns):\n",
            " #   Column  Non-Null Count  Dtype \n",
            "---  ------  --------------  ----- \n",
            " 0   userID  4699 non-null   int64 \n",
            " 1   group   4699 non-null   object\n",
            "dtypes: int64(1), object(1)\n",
            "memory usage: 110.1+ KB\n",
            "None\n"
          ],
          "name": "stdout"
        },
        {
          "output_type": "display_data",
          "data": {
            "text/html": [
              "<div>\n",
              "<style scoped>\n",
              "    .dataframe tbody tr th:only-of-type {\n",
              "        vertical-align: middle;\n",
              "    }\n",
              "\n",
              "    .dataframe tbody tr th {\n",
              "        vertical-align: top;\n",
              "    }\n",
              "\n",
              "    .dataframe thead th {\n",
              "        text-align: right;\n",
              "    }\n",
              "</style>\n",
              "<table border=\"1\" class=\"dataframe\">\n",
              "  <thead>\n",
              "    <tr style=\"text-align: right;\">\n",
              "      <th></th>\n",
              "      <th>userID</th>\n",
              "      <th>group</th>\n",
              "    </tr>\n",
              "  </thead>\n",
              "  <tbody>\n",
              "    <tr>\n",
              "      <th>1</th>\n",
              "      <td>3331</td>\n",
              "      <td>Y</td>\n",
              "    </tr>\n",
              "    <tr>\n",
              "      <th>2</th>\n",
              "      <td>1912</td>\n",
              "      <td>Y</td>\n",
              "    </tr>\n",
              "    <tr>\n",
              "      <th>3</th>\n",
              "      <td>3035</td>\n",
              "      <td>Y</td>\n",
              "    </tr>\n",
              "    <tr>\n",
              "      <th>4</th>\n",
              "      <td>916</td>\n",
              "      <td>Y</td>\n",
              "    </tr>\n",
              "    <tr>\n",
              "      <th>5</th>\n",
              "      <td>1920</td>\n",
              "      <td>Y</td>\n",
              "    </tr>\n",
              "  </tbody>\n",
              "</table>\n",
              "</div>"
            ],
            "text/plain": [
              "   userID group\n",
              "1    3331     Y\n",
              "2    1912     Y\n",
              "3    3035     Y\n",
              "4     916     Y\n",
              "5    1920     Y"
            ]
          },
          "metadata": {
            "tags": []
          }
        },
        {
          "output_type": "display_data",
          "data": {
            "text/html": [
              "<div>\n",
              "<style scoped>\n",
              "    .dataframe tbody tr th:only-of-type {\n",
              "        vertical-align: middle;\n",
              "    }\n",
              "\n",
              "    .dataframe tbody tr th {\n",
              "        vertical-align: top;\n",
              "    }\n",
              "\n",
              "    .dataframe thead th {\n",
              "        text-align: right;\n",
              "    }\n",
              "</style>\n",
              "<table border=\"1\" class=\"dataframe\">\n",
              "  <thead>\n",
              "    <tr style=\"text-align: right;\">\n",
              "      <th></th>\n",
              "      <th>count</th>\n",
              "      <th>mean</th>\n",
              "      <th>std</th>\n",
              "      <th>min</th>\n",
              "      <th>25%</th>\n",
              "      <th>50%</th>\n",
              "      <th>75%</th>\n",
              "      <th>max</th>\n",
              "    </tr>\n",
              "  </thead>\n",
              "  <tbody>\n",
              "    <tr>\n",
              "      <th>userID</th>\n",
              "      <td>4699.0</td>\n",
              "      <td>2350.0</td>\n",
              "      <td>1356.628787</td>\n",
              "      <td>1.0</td>\n",
              "      <td>1175.5</td>\n",
              "      <td>2350.0</td>\n",
              "      <td>3524.5</td>\n",
              "      <td>4699.0</td>\n",
              "    </tr>\n",
              "  </tbody>\n",
              "</table>\n",
              "</div>"
            ],
            "text/plain": [
              "         count    mean          std  min     25%     50%     75%     max\n",
              "userID  4699.0  2350.0  1356.628787  1.0  1175.5  2350.0  3524.5  4699.0"
            ]
          },
          "metadata": {
            "tags": []
          }
        },
        {
          "output_type": "stream",
          "text": [
            "Пропущенные значения:\n",
            "userID    0\n",
            "group     0\n",
            "dtype: int64\n",
            "Дубликаты 0\n"
          ],
          "name": "stdout"
        }
      ]
    },
    {
      "cell_type": "code",
      "metadata": {
        "colab": {
          "base_uri": "https://localhost:8080/",
          "height": 683
        },
        "id": "CfWdmoAbFQ97",
        "outputId": "4b9db477-1ae0-4c8c-a2e9-ba6a210b329f"
      },
      "source": [
        "# массив с данными эксперимента\n",
        "df_info(data)"
      ],
      "execution_count": 112,
      "outputs": [
        {
          "output_type": "stream",
          "text": [
            "<class 'pandas.core.frame.DataFrame'>\n",
            "Int64Index: 4699 entries, 1 to 4699\n",
            "Data columns (total 4 columns):\n",
            " #   Column  Non-Null Count  Dtype\n",
            "---  ------  --------------  -----\n",
            " 0   userID  4699 non-null   int64\n",
            " 1   exp0    4699 non-null   int64\n",
            " 2   exp1    4699 non-null   int64\n",
            " 3   delta   4699 non-null   int64\n",
            "dtypes: int64(4)\n",
            "memory usage: 183.6 KB\n",
            "None\n"
          ],
          "name": "stdout"
        },
        {
          "output_type": "display_data",
          "data": {
            "text/html": [
              "<div>\n",
              "<style scoped>\n",
              "    .dataframe tbody tr th:only-of-type {\n",
              "        vertical-align: middle;\n",
              "    }\n",
              "\n",
              "    .dataframe tbody tr th {\n",
              "        vertical-align: top;\n",
              "    }\n",
              "\n",
              "    .dataframe thead th {\n",
              "        text-align: right;\n",
              "    }\n",
              "</style>\n",
              "<table border=\"1\" class=\"dataframe\">\n",
              "  <thead>\n",
              "    <tr style=\"text-align: right;\">\n",
              "      <th></th>\n",
              "      <th>userID</th>\n",
              "      <th>exp0</th>\n",
              "      <th>exp1</th>\n",
              "      <th>delta</th>\n",
              "    </tr>\n",
              "  </thead>\n",
              "  <tbody>\n",
              "    <tr>\n",
              "      <th>1</th>\n",
              "      <td>1824</td>\n",
              "      <td>2146</td>\n",
              "      <td>1935</td>\n",
              "      <td>-211</td>\n",
              "    </tr>\n",
              "    <tr>\n",
              "      <th>2</th>\n",
              "      <td>500</td>\n",
              "      <td>3636</td>\n",
              "      <td>3549</td>\n",
              "      <td>-87</td>\n",
              "    </tr>\n",
              "    <tr>\n",
              "      <th>3</th>\n",
              "      <td>1660</td>\n",
              "      <td>4198</td>\n",
              "      <td>4158</td>\n",
              "      <td>-40</td>\n",
              "    </tr>\n",
              "    <tr>\n",
              "      <th>4</th>\n",
              "      <td>3160</td>\n",
              "      <td>2388</td>\n",
              "      <td>2223</td>\n",
              "      <td>-165</td>\n",
              "    </tr>\n",
              "    <tr>\n",
              "      <th>5</th>\n",
              "      <td>2961</td>\n",
              "      <td>9524</td>\n",
              "      <td>9427</td>\n",
              "      <td>-97</td>\n",
              "    </tr>\n",
              "  </tbody>\n",
              "</table>\n",
              "</div>"
            ],
            "text/plain": [
              "   userID  exp0  exp1  delta\n",
              "1    1824  2146  1935   -211\n",
              "2     500  3636  3549    -87\n",
              "3    1660  4198  4158    -40\n",
              "4    3160  2388  2223   -165\n",
              "5    2961  9524  9427    -97"
            ]
          },
          "metadata": {
            "tags": []
          }
        },
        {
          "output_type": "display_data",
          "data": {
            "text/html": [
              "<div>\n",
              "<style scoped>\n",
              "    .dataframe tbody tr th:only-of-type {\n",
              "        vertical-align: middle;\n",
              "    }\n",
              "\n",
              "    .dataframe tbody tr th {\n",
              "        vertical-align: top;\n",
              "    }\n",
              "\n",
              "    .dataframe thead th {\n",
              "        text-align: right;\n",
              "    }\n",
              "</style>\n",
              "<table border=\"1\" class=\"dataframe\">\n",
              "  <thead>\n",
              "    <tr style=\"text-align: right;\">\n",
              "      <th></th>\n",
              "      <th>count</th>\n",
              "      <th>mean</th>\n",
              "      <th>std</th>\n",
              "      <th>min</th>\n",
              "      <th>25%</th>\n",
              "      <th>50%</th>\n",
              "      <th>75%</th>\n",
              "      <th>max</th>\n",
              "    </tr>\n",
              "  </thead>\n",
              "  <tbody>\n",
              "    <tr>\n",
              "      <th>userID</th>\n",
              "      <td>4699.0</td>\n",
              "      <td>2350.000000</td>\n",
              "      <td>1356.628787</td>\n",
              "      <td>1.0</td>\n",
              "      <td>1175.5</td>\n",
              "      <td>2350.0</td>\n",
              "      <td>3524.5</td>\n",
              "      <td>4699.0</td>\n",
              "    </tr>\n",
              "    <tr>\n",
              "      <th>exp0</th>\n",
              "      <td>4699.0</td>\n",
              "      <td>4384.979357</td>\n",
              "      <td>2634.158041</td>\n",
              "      <td>579.0</td>\n",
              "      <td>2338.5</td>\n",
              "      <td>3815.0</td>\n",
              "      <td>5786.5</td>\n",
              "      <td>23436.0</td>\n",
              "    </tr>\n",
              "    <tr>\n",
              "      <th>exp1</th>\n",
              "      <td>4699.0</td>\n",
              "      <td>4256.875293</td>\n",
              "      <td>2625.620091</td>\n",
              "      <td>350.0</td>\n",
              "      <td>2223.5</td>\n",
              "      <td>3683.0</td>\n",
              "      <td>5642.5</td>\n",
              "      <td>23263.0</td>\n",
              "    </tr>\n",
              "    <tr>\n",
              "      <th>delta</th>\n",
              "      <td>4699.0</td>\n",
              "      <td>-128.104065</td>\n",
              "      <td>62.207323</td>\n",
              "      <td>-361.0</td>\n",
              "      <td>-168.0</td>\n",
              "      <td>-127.0</td>\n",
              "      <td>-87.0</td>\n",
              "      <td>100.0</td>\n",
              "    </tr>\n",
              "  </tbody>\n",
              "</table>\n",
              "</div>"
            ],
            "text/plain": [
              "         count         mean          std    min     25%     50%     75%  \\\n",
              "userID  4699.0  2350.000000  1356.628787    1.0  1175.5  2350.0  3524.5   \n",
              "exp0    4699.0  4384.979357  2634.158041  579.0  2338.5  3815.0  5786.5   \n",
              "exp1    4699.0  4256.875293  2625.620091  350.0  2223.5  3683.0  5642.5   \n",
              "delta   4699.0  -128.104065    62.207323 -361.0  -168.0  -127.0   -87.0   \n",
              "\n",
              "            max  \n",
              "userID   4699.0  \n",
              "exp0    23436.0  \n",
              "exp1    23263.0  \n",
              "delta     100.0  "
            ]
          },
          "metadata": {
            "tags": []
          }
        },
        {
          "output_type": "stream",
          "text": [
            "Пропущенные значения:\n",
            "userID    0\n",
            "exp0      0\n",
            "exp1      0\n",
            "delta     0\n",
            "dtype: int64\n",
            "Дубликаты 0\n"
          ],
          "name": "stdout"
        }
      ]
    },
    {
      "cell_type": "code",
      "metadata": {
        "colab": {
          "base_uri": "https://localhost:8080/",
          "height": 279
        },
        "id": "Nfoqz24drrRu",
        "outputId": "b09b3974-8322-4e66-ec07-1ef7136b40ed"
      },
      "source": [
        "# Посмотрим на распределение изменения месячных расходов - нормальное\n",
        "sns.distplot(data['delta']);"
      ],
      "execution_count": 113,
      "outputs": [
        {
          "output_type": "display_data",
          "data": {
            "image/png": "[encoded data removed]",
            "text/plain": [
              "<Figure size 432x288 with 1 Axes>"
            ]
          },
          "metadata": {
            "tags": [],
            "needs_background": "light"
          }
        }
      ]
    },
    {
      "cell_type": "code",
      "metadata": {
        "colab": {
          "base_uri": "https://localhost:8080/",
          "height": 204
        },
        "id": "U8VuUppaFQ4D",
        "outputId": "f1b06929-b73e-4cbe-db96-c5ed5d0d4943"
      },
      "source": [
        "df=data.merge(userlist, on = 'userID', how='left')\n",
        "df.head()"
      ],
      "execution_count": 114,
      "outputs": [
        {
          "output_type": "execute_result",
          "data": {
            "text/html": [
              "<div>\n",
              "<style scoped>\n",
              "    .dataframe tbody tr th:only-of-type {\n",
              "        vertical-align: middle;\n",
              "    }\n",
              "\n",
              "    .dataframe tbody tr th {\n",
              "        vertical-align: top;\n",
              "    }\n",
              "\n",
              "    .dataframe thead th {\n",
              "        text-align: right;\n",
              "    }\n",
              "</style>\n",
              "<table border=\"1\" class=\"dataframe\">\n",
              "  <thead>\n",
              "    <tr style=\"text-align: right;\">\n",
              "      <th></th>\n",
              "      <th>userID</th>\n",
              "      <th>exp0</th>\n",
              "      <th>exp1</th>\n",
              "      <th>delta</th>\n",
              "      <th>group</th>\n",
              "    </tr>\n",
              "  </thead>\n",
              "  <tbody>\n",
              "    <tr>\n",
              "      <th>0</th>\n",
              "      <td>1824</td>\n",
              "      <td>2146</td>\n",
              "      <td>1935</td>\n",
              "      <td>-211</td>\n",
              "      <td>Y</td>\n",
              "    </tr>\n",
              "    <tr>\n",
              "      <th>1</th>\n",
              "      <td>500</td>\n",
              "      <td>3636</td>\n",
              "      <td>3549</td>\n",
              "      <td>-87</td>\n",
              "      <td>N</td>\n",
              "    </tr>\n",
              "    <tr>\n",
              "      <th>2</th>\n",
              "      <td>1660</td>\n",
              "      <td>4198</td>\n",
              "      <td>4158</td>\n",
              "      <td>-40</td>\n",
              "      <td>N</td>\n",
              "    </tr>\n",
              "    <tr>\n",
              "      <th>3</th>\n",
              "      <td>3160</td>\n",
              "      <td>2388</td>\n",
              "      <td>2223</td>\n",
              "      <td>-165</td>\n",
              "      <td>Y</td>\n",
              "    </tr>\n",
              "    <tr>\n",
              "      <th>4</th>\n",
              "      <td>2961</td>\n",
              "      <td>9524</td>\n",
              "      <td>9427</td>\n",
              "      <td>-97</td>\n",
              "      <td>N</td>\n",
              "    </tr>\n",
              "  </tbody>\n",
              "</table>\n",
              "</div>"
            ],
            "text/plain": [
              "   userID  exp0  exp1  delta group\n",
              "0    1824  2146  1935   -211     Y\n",
              "1     500  3636  3549    -87     N\n",
              "2    1660  4198  4158    -40     N\n",
              "3    3160  2388  2223   -165     Y\n",
              "4    2961  9524  9427    -97     N"
            ]
          },
          "metadata": {
            "tags": []
          },
          "execution_count": 114
        }
      ]
    },
    {
      "cell_type": "code",
      "metadata": {
        "colab": {
          "base_uri": "https://localhost:8080/",
          "height": 142
        },
        "id": "ZX0wMM8zFQyj",
        "outputId": "6c02d76d-e4ac-4d4b-fe86-2fd720e6e97d"
      },
      "source": [
        "df.groupby(['group']).agg({'userID':'count', 'delta':'mean'})"
      ],
      "execution_count": 115,
      "outputs": [
        {
          "output_type": "execute_result",
          "data": {
            "text/html": [
              "<div>\n",
              "<style scoped>\n",
              "    .dataframe tbody tr th:only-of-type {\n",
              "        vertical-align: middle;\n",
              "    }\n",
              "\n",
              "    .dataframe tbody tr th {\n",
              "        vertical-align: top;\n",
              "    }\n",
              "\n",
              "    .dataframe thead th {\n",
              "        text-align: right;\n",
              "    }\n",
              "</style>\n",
              "<table border=\"1\" class=\"dataframe\">\n",
              "  <thead>\n",
              "    <tr style=\"text-align: right;\">\n",
              "      <th></th>\n",
              "      <th>userID</th>\n",
              "      <th>delta</th>\n",
              "    </tr>\n",
              "    <tr>\n",
              "      <th>group</th>\n",
              "      <th></th>\n",
              "      <th></th>\n",
              "    </tr>\n",
              "  </thead>\n",
              "  <tbody>\n",
              "    <tr>\n",
              "      <th>N</th>\n",
              "      <td>2664</td>\n",
              "      <td>-140.466592</td>\n",
              "    </tr>\n",
              "    <tr>\n",
              "      <th>Y</th>\n",
              "      <td>2035</td>\n",
              "      <td>-111.920393</td>\n",
              "    </tr>\n",
              "  </tbody>\n",
              "</table>\n",
              "</div>"
            ],
            "text/plain": [
              "       userID       delta\n",
              "group                    \n",
              "N        2664 -140.466592\n",
              "Y        2035 -111.920393"
            ]
          },
          "metadata": {
            "tags": []
          },
          "execution_count": 115
        }
      ]
    },
    {
      "cell_type": "code",
      "metadata": {
        "colab": {
          "base_uri": "https://localhost:8080/",
          "height": 369
        },
        "id": "DFhf5Sy-proH",
        "outputId": "31df2a0b-c8ae-46cb-b33f-33ea0e47b76a"
      },
      "source": [
        "# Посмотрим на распределение издержек по группам - нормальное\n",
        "sns.displot(x='delta', hue='group', data=df);"
      ],
      "execution_count": 116,
      "outputs": [
        {
          "output_type": "display_data",
          "data": {
            "image/png": "[encoded data removed]",
            "text/plain": [
              "<Figure size 403.5x360 with 1 Axes>"
            ]
          },
          "metadata": {
            "tags": [],
            "needs_background": "light"
          }
        }
      ]
    },
    {
      "cell_type": "markdown",
      "metadata": {
        "id": "496zuS2KjZhn"
      },
      "source": [
        "## Проверка гипотез"
      ]
    },
    {
      "cell_type": "markdown",
      "metadata": {
        "id": "AQj5jDiMjlxj"
      },
      "source": [
        "Предположим, что средние издержки пользователей Y и N равны между собой - это наша нулевая гипотеза H0.\n",
        "\n",
        "Проверим нулевую гипотезу о равенстве средних значений двух выборок:"
      ]
    },
    {
      "cell_type": "code",
      "metadata": {
        "colab": {
          "base_uri": "https://localhost:8080/"
        },
        "id": "lDabIm6zgymI",
        "outputId": "5d017186-949d-4b39-d5d2-ff7ee004a378"
      },
      "source": [
        "df_Y = df.query('group == \"Y\"')['delta'].values\n",
        "df_N = df.query('group == \"N\"')['delta'].values\n",
        " # критический уровень статистической значимости\n",
        "alpha = 0.05\n",
        " # Используем Т-критерий Стьюдента\n",
        "results = st.ttest_ind(df_Y, df_N) \n",
        "\n",
        "print('p-значение:', results.pvalue)\n",
        " \n",
        "if results.pvalue<alpha:\n",
        "  print(\"Отвергаем нулевую гипотезу\")\n",
        "else:\n",
        "  print(\"Не получилось отвергнуть нулевую гипотезу\")\n",
        "\n",
        "print(\"Относительный выигрыш/проигрыш Y к N: {0:.1%}\".format(df_Y.mean()/df_N.mean()-1))"
      ],
      "execution_count": 117,
      "outputs": [
        {
          "output_type": "stream",
          "text": [
            "p-значение: 3.559707783452669e-56\n",
            "Отвергаем нулевую гипотезу\n",
            "Относительный выигрыш/проигрыш Y к N: -20.3%\n"
          ],
          "name": "stdout"
        }
      ]
    },
    {
      "cell_type": "markdown",
      "metadata": {
        "id": "wMNTYbDgkrAS"
      },
      "source": [
        "Полученное значение p-value говорит о том, что средние значения наших выборок не равны. И вероятность того, что такой результат мы получили случайно ничтожно мала.\n",
        "\n",
        "1. Издержки пользователей Y и N различаются\n",
        "\n",
        "2. При этом относительный проигрыш группы Y равен 20.3%"
      ]
    },
    {
      "cell_type": "markdown",
      "metadata": {
        "id": "XqgXvvsVlcGM"
      },
      "source": [
        "# Вывод\n"
      ]
    },
    {
      "cell_type": "markdown",
      "metadata": {
        "id": "j-5vf5__liiW"
      },
      "source": [
        "По результатам исследоваеия аналитика можно сказать что:\n",
        "* подключение новой функции не снижает среднее значение издержек\n",
        "* алгоритм работы новой функции не совершенен\n",
        "* промежуток времени в 1 месяц мал\n",
        "* возможно, нужна выборка бОльшего размера"
      ]
    }
  ]
}